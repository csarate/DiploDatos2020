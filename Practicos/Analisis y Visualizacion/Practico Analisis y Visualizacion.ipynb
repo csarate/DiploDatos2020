{
 "cells": [
  {
   "cell_type": "markdown",
   "metadata": {},
   "source": [
    "<center>\n",
    "<h2>Universidad Nacional de Córdoba - Facultad de Matemática, Astronomía, Física y Computación</h2>\n",
    "<h3>Diplomatura en Ciencia de Datos, Aprendizaje Automático y sus Aplicaciones 2020</h3>\n",
    "<h4>Búsqueda y Recomendación de Textos Legales - Análisis y Visualización</h4>\n",
    "</center>\n",
    "</left>\n",
    "<h4>Mentor: Claudio Sarate</h4>\n",
    "</left>"
   ]
  },
  {
   "cell_type": "markdown",
   "metadata": {},
   "source": [
    "### Introducción"
   ]
  },
  {
   "cell_type": "markdown",
   "metadata": {},
   "source": [
    "#### Descripción del dataset"
   ]
  },
  {
   "cell_type": "markdown",
   "metadata": {},
   "source": [
    "El dataset que usaremos en este proyecto se lo instancia en un marco legal/jurídico, utilizando una parte del corpus de leyes de Argentina, tomado desde la página web oficial www.infoleg.gov.ar"
   ]
  },
  {
   "cell_type": "markdown",
   "metadata": {},
   "source": [
    "En esta notebook, se implementarán conceptos de la materia tales como distribuciones de probabilidad, probabilidad condicional, test de hipótesis."
   ]
  },
  {
   "cell_type": "markdown",
   "metadata": {},
   "source": [
    "#### Enunciado del práctico"
   ]
  },
  {
   "cell_type": "markdown",
   "metadata": {},
   "source": [
    "Con el corpus hagan un histograma con la frecuencia de cada una de las palabras que ocurre en el corpus. \n",
    "Muestren algunas de las palabras más frecuentes, algunas de las más frecuentes y algunas de las de frecuencia \n",
    "intermedia. \n",
    "\n",
    "¿Qué observan? Hagan lo mismo para las secuencias de 2 palabras y de 3 palabras. ¿Qué observan?"
   ]
  },
  {
   "cell_type": "markdown",
   "metadata": {},
   "source": [
    " ----------------------------------------------------------------------------------------------------------"
   ]
  },
  {
   "cell_type": "markdown",
   "metadata": {},
   "source": [
    "A continuación intenten encontrar correlaciones entre palabras que ocurren una seguida de la otra, es decir, traten de identificar qué palabras ocurren más frecuentemente de lo que podríamos considerar casualidad detrás de otra palabra. \n",
    "\n",
    "A esta medida se la llama Información Mutua y su instanciación en el Procesamiento del Lenguaje Natural se llama Información Mutua Puntual. Encuentren cómo se implementa, y encuentren las secuencias de palabras con mayor IMP.\n",
    "\n",
    "Analicen cómo se correlacionan cosas (palabras entre ellas, palabras con contextos o palabras con categorías). Pueden usar correlación o IMP. Pueden observar relaciones entre palabras (o n-gramas) que ocurren una detrás de la otra, o que co-ocurren en el mismo párrafo, o entre palabras y contextos (título? tipo de Ley? están en el inicio de una oración?). Si tenemos categorías (p.ej., tema del texto), IM entre palabras y categorías. "
   ]
  },
  {
   "cell_type": "markdown",
   "metadata": {},
   "source": [
    " ----------------------------------------------------------------------------------------------------------"
   ]
  },
  {
   "cell_type": "markdown",
   "metadata": {},
   "source": [
    "Visualizaciones: \n",
    "\n",
    "Histograma de frecuencia de palabras (debería salir con distribución exponencial según ley de Zipf). \n",
    "\n",
    "Mostrar las 20 palabras más frecuentes, 20 de las menos frecuentes, y 20 aleatorias que estén en el rango intermedio. Ver diferentes rangos. \n",
    "\n",
    "Tratar de caracterizarlas, sacar conclusiones sobre qué tipo de palabras son, si son valiosas o no y cómo podríamos explotarlas o eliminar el ruido que traen.\n",
    "\n",
    "Lo mismo para n-gramas, introducir el valor del n-grama.\n",
    "\n",
    "Se puede plotear como un scatterplot o un mapa de calor, o mostrar las n palabras con mayor IM / correlación.\n"
   ]
  },
  {
   "cell_type": "markdown",
   "metadata": {},
   "source": [
    " ----------------------------------------------------------------------------------------------------------"
   ]
  },
  {
   "cell_type": "markdown",
   "metadata": {},
   "source": [
    "Encontrar que librerías se pueden utilizar para detectar términos multipalabra (en particular, entidades nombradas) en lugar de n-gramas (solo nombrarlas)"
   ]
  },
  {
   "cell_type": "markdown",
   "metadata": {},
   "source": [
    " ----------------------------------------------------------------------------------------------------------"
   ]
  },
  {
   "cell_type": "markdown",
   "metadata": {},
   "source": [
    "### Entrega"
   ]
  },
  {
   "cell_type": "markdown",
   "metadata": {},
   "source": [
    "Formato de entrega: Deberán entregar el análisis realizado, junto con los códigos con los que hicieron el análisis. Pueden optar por un único Notebook que alterne celdas de código con una descripción detallada, o bien, un Notebook más centrado en los códigos, junto con una presentación que detalle el análisis.\n",
    "\n",
    "Fecha de entrega: 29/6"
   ]
  },
  {
   "cell_type": "markdown",
   "metadata": {},
   "source": [
    " ----------------------------------------------------------------------------------------------------------"
   ]
  },
  {
   "cell_type": "markdown",
   "metadata": {},
   "source": [
    "#### Referencias:"
   ]
  },
  {
   "cell_type": "markdown",
   "metadata": {},
   "source": [
    "[1] Preprocesamiento de datos de texto: un tutorial en Python https://medium.com/datos-y-ciencia/preprocesamiento-de-datos-de-texto-un-tutorial-en-python-5db5620f1767\n",
    "\n",
    "[2] Contar frecuencias de palabras con Python https://programminghistorian.org/es/lecciones/contar-frecuencias#los-pares-palabra-frecuencia \n",
    "\n",
    "[3] How to make a histogram from a list of strings in Python? https://stackoverrun.com/es/q/7804570\n",
    "\n",
    "[4] Como utilizar Python para encontrar la distribución Zipf de un archivo de texto https://programacion.net/articulo/como_utilizar_python_para_encontrar_la_distribucion_zipf_de_un_archivo_de_texto_1618\n",
    "\n",
    "[5] Tutorial De NLP Con Python NLTK (Ejemplos Simples) https://likegeeks.com/es/tutorial-de-nlp-con-python-nltk/#Contar-la-frecuencia-de-palabras\n",
    "\n",
    "[6] Generación de Ngrams (Unigrams, Bigrams, etc.) a partir de un gran corpus de archivos .txt y su frecuencia https://www.it-swarm.dev/es/python/generacion-de-ngrams-unigrams-bigrams-etc.-partir-de-un-gran-corpus-de-archivos-.txt-y-su-frecuencia/1055573289/\n",
    "\n",
    "[7] Introduction to N-grams — NLP || Dan Jurafsky || Stanford https://www.youtube.com/watch?v=hB2ShMlwTyc \n",
    "\n",
    "[8] Tokenization https://nlp.stanford.edu/IR-book/html/htmledition/tokenization-1.html\n",
    "\n",
    "[9] Punto de información mutua https://es.wikipedia.org/wiki/Punto_de_informaci%C3%B3n_mutua \n",
    "\n",
    "[10] Reconocimiento de entidades nombradas https://es.wikipedia.org/wiki/Reconocimiento_de_entidades_nombradas "
   ]
  }
 ],
 "metadata": {
  "kernelspec": {
   "display_name": "Python 3",
   "language": "python",
   "name": "python3"
  },
  "language_info": {
   "codemirror_mode": {
    "name": "ipython",
    "version": 3
   },
   "file_extension": ".py",
   "mimetype": "text/x-python",
   "name": "python",
   "nbconvert_exporter": "python",
   "pygments_lexer": "ipython3",
   "version": "3.7.6"
  }
 },
 "nbformat": 4,
 "nbformat_minor": 4
}
